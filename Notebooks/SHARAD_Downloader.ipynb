{
 "cells": [
  {
   "cell_type": "markdown",
   "id": "4295618a-cf82-46cf-a847-d04d57e146d0",
   "metadata": {},
   "source": [
    "# **SHARAD REST API Downloader**\n",
    "Author: g.nodjoumi@jacobs-university.de \n",
    "\n",
    "## What is it?\n",
    "This notebook can be used to download search and download single to multiple SHARAD acquisition (IMG+lbl file) from ODE-PDS, including US Surface Clutter simulations.\n",
    "\n",
    "## How-TO\n",
    "\n",
    "* Customize [User input](#User-input) by defining:\n",
    "    * destination folder\n",
    "    * US SCS download (default True)\n",
    "    * bounding box (left, bottom, right, top)\n",
    "    * data type (EDR, RDRv2, USRDRv2)\n",
    "    * Edit WCS_url and bmap_layerid if custom WCS is available\n",
    "* Execute until [Track footprints](#Track-footprints) and check available tracks\n",
    "* To download only specific tracks, edit **user_list** in [Track filter](#Track-filter)\n",
    "* Continue execution until [Start Download](#Start-download) to start the download    \n",
    "\n",
    "**Funding**: This study is within the Europlanet 2024 RI and EXPLORE project, and it has received funding from the European Union’s Horizon 2020 research and innovation programme under grant agreement No 871149 and No 101004214.\n",
    "\n",
    "**Derived from https://github.com/europlanet-gmap/exemplary-notebooks/blob/main/pds/01_search-download_from_ode-pds/01_search_data_products.ipynb**"
   ]
  },
  {
   "cell_type": "code",
   "execution_count": null,
   "id": "848fb10a-00ee-4036-8fd5-9a55c1acb324",
   "metadata": {},
   "outputs": [],
   "source": [
    "import gpt #Clone and install https://github.com/chbrandt/gpt\n",
    "from gpt.search import ode\n",
    "import geoviews as gv\n",
    "gv.extension('bokeh', 'matplotlib')\n",
    "import os\n",
    "import rioxarray as riox\n",
    "from tqdm import tqdm\n",
    "from utils.download_utils import chunk_creator, download, download_checker, user_filter,downloader_basemap_prep, get_products\n",
    "from utils.utils import get_poly"
   ]
  },
  {
   "cell_type": "code",
   "execution_count": null,
   "id": "2395f3ad-1696-45cc-ac41-1a384b7d7923",
   "metadata": {},
   "outputs": [],
   "source": [
    "def parallel_df(files, ddir, jobs):\n",
    "    from joblib import Parallel, delayed\n",
    "    results = Parallel (n_jobs=jobs)(delayed(download)(files[i], ddir)\n",
    "                            for i in range(len(files)))    "
   ]
  },
  {
   "cell_type": "markdown",
   "id": "d605559e-08c1-448d-a44c-449bab8bec4f",
   "metadata": {},
   "source": [
    "## Available data"
   ]
  },
  {
   "cell_type": "code",
   "execution_count": null,
   "id": "bb794fbc-7435-4998-944a-60b203da8569",
   "metadata": {},
   "outputs": [],
   "source": [
    "SHARADsets = ode.available_datasets('mars')\n",
    "SHARADsets.loc['MRO'].loc['SHARAD']"
   ]
  },
  {
   "cell_type": "markdown",
   "id": "1f60f680-33d2-422d-9133-ad757a31c72e",
   "metadata": {},
   "source": [
    "## User input"
   ]
  },
  {
   "cell_type": "markdown",
   "id": "39b51aa4-f203-417a-b9fa-801bcab8c0dc",
   "metadata": {},
   "source": [
    "In this section, user must select the destination folder ***ddir***, the data type ***Data***, the bounding box coordinates in -180+180 reference system (***min_Lon***, ***min_Lat***, ***max_Lat***, ***max_Lon***), and, if necessary change the ***wcs_url*** and ***bmap_layerid***."
   ]
  },
  {
   "cell_type": "code",
   "execution_count": null,
   "id": "5d44e319-0665-440a-9800-4f900ff6c036",
   "metadata": {},
   "outputs": [],
   "source": [
    "ddir = './Data/' # Name of the folder where to download files\n",
    "os.makedirs(ddir, exist_ok=True)\n",
    "download_simulations = True # Download SHARAD US Surface Clutter Simulation \n",
    "#bounding_box=[0, 80, 10, 90] # Bounding box for searching data (Left, Bottom, Right, Top)\n",
    "Data = 'USRDRv2' # EDR, USRDRv2, RDR\n",
    "min_Lon = -10\n",
    "min_Lat = -10\n",
    "max_Lat = 10\n",
    "max_Lon = 10\n",
    "######## edit if you want to use custom WCS service\n",
    "wcs_url ='https://explore.jacobs-university.de/geoserver/ows?service=WCS' # Temporary default WCS service. Is it possible to replace with custom one.\n",
    "bmap_layerid = 'Mars_Viking_MDIM21_ClrMosaic_global_232m_cog' # IF wcs_url is not the default one, change the layer name accordingly \n",
    "\n",
    "######## edit only if plot visualization problems occurs\n",
    "plot_height = 720"
   ]
  },
  {
   "cell_type": "markdown",
   "id": "c8c16641-b5d2-4819-ace4-e5ed36c5b4ce",
   "metadata": {},
   "source": [
    "## Track footprints"
   ]
  },
  {
   "cell_type": "markdown",
   "id": "0a715352-f0a8-45ed-ac67-f63cef0bc2d3",
   "metadata": {},
   "source": [
    "In following section:\n",
    "* ***get_products***: use gpt python package combined with the bounding box and data type to access PDS data archive and retreive a geopackage containing all available data information. If the *download_simulations* variable is True, a list of SHARAD USGS SCS simulations will be retrieved.\n",
    "* ***downloader_basemap_prep***: use the footprint of the geopackage to download the basemap from WCS service. Then creates the geoviews plots.\n",
    "* ***get_poly***: create a plot-compatible polygon of the user bounding box.\n",
    "* ***rgb.opts***: plot the basemap, the user bounding box, and all available tracks."
   ]
  },
  {
   "cell_type": "code",
   "execution_count": null,
   "id": "4a228444-7f82-47aa-abe1-11f576909047",
   "metadata": {},
   "outputs": [],
   "source": [
    "file_list, track_gdf = get_products([min_Lon, min_Lat, max_Lon, max_Lat], 'MRO', 'SHARAD', Data, download_simulations)\n",
    "track_gdf = track_gdf.drop_duplicates('geometry')\n",
    "bmap_name, ximg, plot_width, rgb = downloader_basemap_prep(wcs_url, bmap_layerid, ddir, track_gdf, plot_height, resx=0.05,resy=0.05)\n",
    "poly = get_poly([min_Lon, min_Lat, max_Lon, max_Lat])\n",
    "rgb.opts(height=plot_height, width = plot_width*2,show_grid=True).opts(toolbar='left')*gv.Polygons(poly).opts(alpha=0.2)*gv.Path([gv.Shape(geom) for geom in track_gdf.geometry]).opts( height=plot_height,show_grid=True, alpha=0.5, color = 'red')"
   ]
  },
  {
   "cell_type": "code",
   "execution_count": null,
   "id": "a04838c1-8d65-41ef-b9cd-d3d74408a4c4",
   "metadata": {},
   "outputs": [],
   "source": [
    "#Hang the execution to let the user draw subsurface layers, if present.\n",
    "class StopExecution(Exception):\n",
    "    def _render_traceback_(self):\n",
    "        pass\n",
    "\n",
    "raise StopExecution"
   ]
  },
  {
   "cell_type": "markdown",
   "id": "13308e86-1cd8-4e03-9259-638aed2618c6",
   "metadata": {},
   "source": [
    "## **Track length filtered**"
   ]
  },
  {
   "cell_type": "markdown",
   "id": "1526d371-29e9-4968-b02c-5783026c7314",
   "metadata": {},
   "source": [
    "### **Skip to next block if no need to filter by track length**"
   ]
  },
  {
   "cell_type": "markdown",
   "id": "d7a30b4c-0334-4c03-b04b-e57a8d6b11cc",
   "metadata": {},
   "source": [
    "In the following section, user can define a maximum length of the track (in degrees), to filter the available tracks. Then a new basemap is downloaded and plotted with the filtered tracks."
   ]
  },
  {
   "cell_type": "code",
   "execution_count": null,
   "id": "81b32342-313e-41b1-9a4c-01dba9acdf1f",
   "metadata": {},
   "outputs": [],
   "source": [
    "max_length = 20 #degrees"
   ]
  },
  {
   "cell_type": "code",
   "execution_count": null,
   "id": "87eb056d-b9d8-4ecf-8306-4972be57b612",
   "metadata": {},
   "outputs": [],
   "source": [
    "length_filtered = track_gdf[track_gdf['geometry'].length <=max_length].drop_duplicates(subset='pdsid',keep='last')\n",
    "length_filtered.drop('notes', inplace=True, axis=1)\n",
    "length_filtered.to_file(f'{ddir}/SHARAD_filtered_tracks.gpkg', driver='GPKG')\n",
    "filtered_tracks = [pdsid.lower().split('_rgram')[0] for pdsid in length_filtered['pdsid']]\n",
    "filtered_list=user_filter(filtered_tracks,file_list)\n",
    "rgb.opts(width=plot_width*2, height=plot_height,show_grid=True)*gv.Polygons(poly).opts(alpha=0.2)*gv.Path([gv.Shape(geom) for geom in length_filtered.geometry]).opts( width=plot_width, height=plot_height,show_grid=True, alpha=0.5, color = 'red')"
   ]
  },
  {
   "cell_type": "markdown",
   "id": "6223fd41-bf99-4e00-b72e-bdf99ffa2e8e",
   "metadata": {},
   "source": [
    "## **Track name filter**"
   ]
  },
  {
   "cell_type": "markdown",
   "id": "3d11c718-adda-4383-80d2-6d31a37a97ad",
   "metadata": {},
   "source": [
    "In the following section, available tracks names are printed out and user can filter further the available tracks list by writing desired tracks names in the ***track_names*** list. e.g. '0311401_001','5540401_001'"
   ]
  },
  {
   "cell_type": "code",
   "execution_count": null,
   "id": "bd1f9335-1609-44b8-867e-f5324e2c6bcc",
   "metadata": {},
   "outputs": [],
   "source": [
    "track_names = [os.path.splitext(os.path.basename(file))[0] for file in filtered_list]\n",
    "print(f'Available track names: {track_names}')"
   ]
  },
  {
   "cell_type": "code",
   "execution_count": null,
   "id": "82bd0c8f-1c78-4388-8875-b519d2aca825",
   "metadata": {},
   "outputs": [],
   "source": [
    "track_names = [] #Enter here the name of selected tracks to download. e.g. 's_00311401'. IF empty, all tracks will be downloaded\n",
    "len(track_names)"
   ]
  },
  {
   "cell_type": "markdown",
   "id": "3859ea90-6d80-488d-86c4-57b2d425cd15",
   "metadata": {},
   "source": [
    "## **Track download preparation**"
   ]
  },
  {
   "cell_type": "code",
   "execution_count": null,
   "id": "799dcb5a-2c28-487b-bccf-ec6d8a8819cc",
   "metadata": {},
   "outputs": [],
   "source": [
    "if len(track_names)>0:\n",
    "    final_list=user_filter(track_names,filtered_list)\n",
    "else:\n",
    "    final_list=filtered_list\n",
    "dlist = download_checker(final_list,ddir)\n",
    "chunks, jobs = chunk_creator(dlist)\n",
    "len(final_list)"
   ]
  },
  {
   "cell_type": "markdown",
   "id": "50db3203-5f26-4a6c-bc71-6e4b4bf271d8",
   "metadata": {},
   "source": [
    "## Start download"
   ]
  },
  {
   "cell_type": "code",
   "execution_count": null,
   "id": "1ce67c73-78ca-4a05-955c-4fff04d73ef9",
   "metadata": {},
   "outputs": [],
   "source": [
    "with tqdm(total=len(dlist),\n",
    "         desc = 'Generating files',\n",
    "         unit='File') as pbar:\n",
    "    for i in range(len(chunks)):\n",
    "        files = chunks[i]    \n",
    "        # print(files)\n",
    "        parallel_df(files,ddir, jobs)        \n",
    "        pbar.update(jobs)"
   ]
  }
 ],
 "metadata": {
  "kernelspec": {
   "display_name": "Python 3 (ipykernel)",
   "language": "python",
   "name": "python3"
  },
  "language_info": {
   "codemirror_mode": {
    "name": "ipython",
    "version": 3
   },
   "file_extension": ".py",
   "mimetype": "text/x-python",
   "name": "python",
   "nbconvert_exporter": "python",
   "pygments_lexer": "ipython3",
   "version": "3.9.15"
  }
 },
 "nbformat": 4,
 "nbformat_minor": 5
}
